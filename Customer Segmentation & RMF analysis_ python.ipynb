{
  "nbformat": 4,
  "nbformat_minor": 0,
  "metadata": {
    "colab": {
      "name": "Project_ML.ipynb",
      "provenance": [],
      "collapsed_sections": []
    },
    "kernelspec": {
      "name": "python3",
      "display_name": "Python 3"
    }
  },
  "cells": [
    {
      "cell_type": "code",
      "metadata": {
        "id": "w79U3K884yqj"
      },
      "source": [
        "import pandas as pd\n",
        "import datetime as dt\n",
        "import seaborn as sns\n",
        "import matplotlib.pyplot as plt\n",
        "#%matplotlib inline\n",
        "\n"
      ],
      "execution_count": 470,
      "outputs": []
    },
    {
      "cell_type": "markdown",
      "metadata": {
        "id": "1g5-n__IUUpk"
      },
      "source": [
        "**Import Sample orders data containing transactions** "
      ]
    },
    {
      "cell_type": "code",
      "metadata": {
        "id": "LrbNkuVN436v",
        "outputId": "df7427aa-f55a-4a0b-efbd-04ef0048cf33",
        "colab": {
          "base_uri": "https://localhost:8080/",
          "height": 195
        }
      },
      "source": [
        "\n",
        "dataset = pd.read_csv('sample-orders.csv',encoding = 'unicode_escape')\n",
        "dataset.head()\n",
        "\n"
      ],
      "execution_count": 471,
      "outputs": [
        {
          "output_type": "execute_result",
          "data": {
            "text/html": [
              "<div>\n",
              "<style scoped>\n",
              "    .dataframe tbody tr th:only-of-type {\n",
              "        vertical-align: middle;\n",
              "    }\n",
              "\n",
              "    .dataframe tbody tr th {\n",
              "        vertical-align: top;\n",
              "    }\n",
              "\n",
              "    .dataframe thead th {\n",
              "        text-align: right;\n",
              "    }\n",
              "</style>\n",
              "<table border=\"1\" class=\"dataframe\">\n",
              "  <thead>\n",
              "    <tr style=\"text-align: right;\">\n",
              "      <th></th>\n",
              "      <th>order_date</th>\n",
              "      <th>order_id</th>\n",
              "      <th>customer</th>\n",
              "      <th>grand_total</th>\n",
              "    </tr>\n",
              "  </thead>\n",
              "  <tbody>\n",
              "    <tr>\n",
              "      <th>0</th>\n",
              "      <td>9/7/11</td>\n",
              "      <td>CA-2011-100006</td>\n",
              "      <td>Dennis Kane</td>\n",
              "      <td>378</td>\n",
              "    </tr>\n",
              "    <tr>\n",
              "      <th>1</th>\n",
              "      <td>7/8/11</td>\n",
              "      <td>CA-2011-100090</td>\n",
              "      <td>Ed Braxton</td>\n",
              "      <td>699</td>\n",
              "    </tr>\n",
              "    <tr>\n",
              "      <th>2</th>\n",
              "      <td>3/14/11</td>\n",
              "      <td>CA-2011-100293</td>\n",
              "      <td>Neil Franzsisch</td>\n",
              "      <td>91</td>\n",
              "    </tr>\n",
              "    <tr>\n",
              "      <th>3</th>\n",
              "      <td>1/29/11</td>\n",
              "      <td>CA-2011-100328</td>\n",
              "      <td>Jasper Cacioppo</td>\n",
              "      <td>4</td>\n",
              "    </tr>\n",
              "    <tr>\n",
              "      <th>4</th>\n",
              "      <td>4/8/11</td>\n",
              "      <td>CA-2011-100363</td>\n",
              "      <td>Jim Mitchum</td>\n",
              "      <td>21</td>\n",
              "    </tr>\n",
              "  </tbody>\n",
              "</table>\n",
              "</div>"
            ],
            "text/plain": [
              "  order_date        order_id          customer  grand_total\n",
              "0     9/7/11  CA-2011-100006       Dennis Kane          378\n",
              "1     7/8/11  CA-2011-100090        Ed Braxton          699\n",
              "2    3/14/11  CA-2011-100293  Neil Franzsisch           91\n",
              "3    1/29/11  CA-2011-100328   Jasper Cacioppo            4\n",
              "4     4/8/11  CA-2011-100363       Jim Mitchum           21"
            ]
          },
          "metadata": {
            "tags": []
          },
          "execution_count": 471
        }
      ]
    },
    {
      "cell_type": "markdown",
      "metadata": {
        "id": "s6wVDMITUAtI"
      },
      "source": [
        "# Create the RFM"
      ]
    },
    {
      "cell_type": "markdown",
      "metadata": {
        "id": "7WQb6f6DXx4V"
      },
      "source": [
        "Setting this date to the current day and extracting all orders until yesterday"
      ]
    },
    {
      "cell_type": "code",
      "metadata": {
        "id": "bxSraDhUT_6s"
      },
      "source": [
        "rec = dt.datetime(2020, 9, 25)"
      ],
      "execution_count": 472,
      "outputs": []
    },
    {
      "cell_type": "markdown",
      "metadata": {
        "id": "HjhTr3tTa8b5"
      },
      "source": [
        "Make the date_placed column datetime"
      ]
    },
    {
      "cell_type": "code",
      "metadata": {
        "id": "n_wgroS3WyIN"
      },
      "source": [
        "dataset['order_date'] = pd.to_datetime(dataset['order_date'])"
      ],
      "execution_count": 473,
      "outputs": []
    },
    {
      "cell_type": "code",
      "metadata": {
        "id": "YgS_n2EcW2a5",
        "outputId": "768b1240-197b-48ec-ec96-b02216a32c15",
        "colab": {
          "base_uri": "https://localhost:8080/",
          "height": 195
        }
      },
      "source": [
        "dataset.head()"
      ],
      "execution_count": 474,
      "outputs": [
        {
          "output_type": "execute_result",
          "data": {
            "text/html": [
              "<div>\n",
              "<style scoped>\n",
              "    .dataframe tbody tr th:only-of-type {\n",
              "        vertical-align: middle;\n",
              "    }\n",
              "\n",
              "    .dataframe tbody tr th {\n",
              "        vertical-align: top;\n",
              "    }\n",
              "\n",
              "    .dataframe thead th {\n",
              "        text-align: right;\n",
              "    }\n",
              "</style>\n",
              "<table border=\"1\" class=\"dataframe\">\n",
              "  <thead>\n",
              "    <tr style=\"text-align: right;\">\n",
              "      <th></th>\n",
              "      <th>order_date</th>\n",
              "      <th>order_id</th>\n",
              "      <th>customer</th>\n",
              "      <th>grand_total</th>\n",
              "    </tr>\n",
              "  </thead>\n",
              "  <tbody>\n",
              "    <tr>\n",
              "      <th>0</th>\n",
              "      <td>2011-09-07</td>\n",
              "      <td>CA-2011-100006</td>\n",
              "      <td>Dennis Kane</td>\n",
              "      <td>378</td>\n",
              "    </tr>\n",
              "    <tr>\n",
              "      <th>1</th>\n",
              "      <td>2011-07-08</td>\n",
              "      <td>CA-2011-100090</td>\n",
              "      <td>Ed Braxton</td>\n",
              "      <td>699</td>\n",
              "    </tr>\n",
              "    <tr>\n",
              "      <th>2</th>\n",
              "      <td>2011-03-14</td>\n",
              "      <td>CA-2011-100293</td>\n",
              "      <td>Neil Franzsisch</td>\n",
              "      <td>91</td>\n",
              "    </tr>\n",
              "    <tr>\n",
              "      <th>3</th>\n",
              "      <td>2011-01-29</td>\n",
              "      <td>CA-2011-100328</td>\n",
              "      <td>Jasper Cacioppo</td>\n",
              "      <td>4</td>\n",
              "    </tr>\n",
              "    <tr>\n",
              "      <th>4</th>\n",
              "      <td>2011-04-08</td>\n",
              "      <td>CA-2011-100363</td>\n",
              "      <td>Jim Mitchum</td>\n",
              "      <td>21</td>\n",
              "    </tr>\n",
              "  </tbody>\n",
              "</table>\n",
              "</div>"
            ],
            "text/plain": [
              "  order_date        order_id          customer  grand_total\n",
              "0 2011-09-07  CA-2011-100006       Dennis Kane          378\n",
              "1 2011-07-08  CA-2011-100090        Ed Braxton          699\n",
              "2 2011-03-14  CA-2011-100293  Neil Franzsisch           91\n",
              "3 2011-01-29  CA-2011-100328   Jasper Cacioppo            4\n",
              "4 2011-04-08  CA-2011-100363       Jim Mitchum           21"
            ]
          },
          "metadata": {
            "tags": []
          },
          "execution_count": 474
        }
      ]
    },
    {
      "cell_type": "markdown",
      "metadata": {
        "id": "ehE-2LcLaNIw"
      },
      "source": [
        "Create the RFM Table"
      ]
    },
    {
      "cell_type": "code",
      "metadata": {
        "id": "0Hmw46JfXjx1"
      },
      "source": [
        "RMF_Table = dataset.groupby('customer').agg({'order_date': lambda x: (rec - x.max()).days, # Recency\n",
        "                                        'order_id': lambda x: len(x),      # Frequency\n",
        "                                        'grand_total': lambda x: x.sum()}) # Monetary Value\n",
        "\n",
        "RMF_Table['order_date'] = RMF_Table['order_date'].astype(int)\n",
        "RMF_Table.rename(columns={'order_date': 'recency', \n",
        "                         'order_id': 'frequency', \n",
        "                         'grand_total': 'monetary_value'}, inplace=True)"
      ],
      "execution_count": 475,
      "outputs": []
    },
    {
      "cell_type": "markdown",
      "metadata": {
        "id": "E4stXaRQcLdv"
      },
      "source": [
        "RMF TABLE"
      ]
    },
    {
      "cell_type": "code",
      "metadata": {
        "id": "kYxnyakgaT4o",
        "outputId": "49feb7d7-92f6-4ad2-c0fb-28bbd9a1313c",
        "colab": {
          "base_uri": "https://localhost:8080/",
          "height": 225
        }
      },
      "source": [
        "RMF_Table.head()"
      ],
      "execution_count": 476,
      "outputs": [
        {
          "output_type": "execute_result",
          "data": {
            "text/html": [
              "<div>\n",
              "<style scoped>\n",
              "    .dataframe tbody tr th:only-of-type {\n",
              "        vertical-align: middle;\n",
              "    }\n",
              "\n",
              "    .dataframe tbody tr th {\n",
              "        vertical-align: top;\n",
              "    }\n",
              "\n",
              "    .dataframe thead th {\n",
              "        text-align: right;\n",
              "    }\n",
              "</style>\n",
              "<table border=\"1\" class=\"dataframe\">\n",
              "  <thead>\n",
              "    <tr style=\"text-align: right;\">\n",
              "      <th></th>\n",
              "      <th>recency</th>\n",
              "      <th>frequency</th>\n",
              "      <th>monetary_value</th>\n",
              "    </tr>\n",
              "    <tr>\n",
              "      <th>customer</th>\n",
              "      <th></th>\n",
              "      <th></th>\n",
              "      <th></th>\n",
              "    </tr>\n",
              "  </thead>\n",
              "  <tbody>\n",
              "    <tr>\n",
              "      <th>Aaron Bergman</th>\n",
              "      <td>2510</td>\n",
              "      <td>3</td>\n",
              "      <td>887</td>\n",
              "    </tr>\n",
              "    <tr>\n",
              "      <th>Aaron Hawkins</th>\n",
              "      <td>2107</td>\n",
              "      <td>7</td>\n",
              "      <td>1744</td>\n",
              "    </tr>\n",
              "    <tr>\n",
              "      <th>Aaron Smayling</th>\n",
              "      <td>2183</td>\n",
              "      <td>7</td>\n",
              "      <td>3050</td>\n",
              "    </tr>\n",
              "    <tr>\n",
              "      <th>Adam Bellavance</th>\n",
              "      <td>2149</td>\n",
              "      <td>8</td>\n",
              "      <td>7756</td>\n",
              "    </tr>\n",
              "    <tr>\n",
              "      <th>Adam Hart</th>\n",
              "      <td>2129</td>\n",
              "      <td>10</td>\n",
              "      <td>3249</td>\n",
              "    </tr>\n",
              "  </tbody>\n",
              "</table>\n",
              "</div>"
            ],
            "text/plain": [
              "                 recency  frequency  monetary_value\n",
              "customer                                           \n",
              "Aaron Bergman       2510          3             887\n",
              "Aaron Hawkins       2107          7            1744\n",
              "Aaron Smayling      2183          7            3050\n",
              "Adam Bellavance     2149          8            7756\n",
              "Adam Hart           2129         10            3249"
            ]
          },
          "metadata": {
            "tags": []
          },
          "execution_count": 476
        }
      ]
    },
    {
      "cell_type": "markdown",
      "metadata": {
        "id": "WZKW-y2JdNsB"
      },
      "source": [
        "#Determining RFM Quartiles"
      ]
    },
    {
      "cell_type": "code",
      "metadata": {
        "id": "61Q0tLoEcEaB"
      },
      "source": [
        "quantiles = RMF_Table.quantile(q=[0.25,0.5,0.75])"
      ],
      "execution_count": 477,
      "outputs": []
    },
    {
      "cell_type": "code",
      "metadata": {
        "id": "4AwkVNI2dYaX",
        "outputId": "3902af3b-1145-4ba6-aa32-4dac5ea39d32",
        "colab": {
          "base_uri": "https://localhost:8080/",
          "height": 136
        }
      },
      "source": [
        "quantiles"
      ],
      "execution_count": 478,
      "outputs": [
        {
          "output_type": "execute_result",
          "data": {
            "text/html": [
              "<div>\n",
              "<style scoped>\n",
              "    .dataframe tbody tr th:only-of-type {\n",
              "        vertical-align: middle;\n",
              "    }\n",
              "\n",
              "    .dataframe tbody tr th {\n",
              "        vertical-align: top;\n",
              "    }\n",
              "\n",
              "    .dataframe thead th {\n",
              "        text-align: right;\n",
              "    }\n",
              "</style>\n",
              "<table border=\"1\" class=\"dataframe\">\n",
              "  <thead>\n",
              "    <tr style=\"text-align: right;\">\n",
              "      <th></th>\n",
              "      <th>recency</th>\n",
              "      <th>frequency</th>\n",
              "      <th>monetary_value</th>\n",
              "    </tr>\n",
              "  </thead>\n",
              "  <tbody>\n",
              "    <tr>\n",
              "      <th>0.25</th>\n",
              "      <td>2125.0</td>\n",
              "      <td>5.0</td>\n",
              "      <td>1145.0</td>\n",
              "    </tr>\n",
              "    <tr>\n",
              "      <th>0.50</th>\n",
              "      <td>2170.0</td>\n",
              "      <td>6.0</td>\n",
              "      <td>2257.0</td>\n",
              "    </tr>\n",
              "    <tr>\n",
              "      <th>0.75</th>\n",
              "      <td>2278.0</td>\n",
              "      <td>8.0</td>\n",
              "      <td>3784.0</td>\n",
              "    </tr>\n",
              "  </tbody>\n",
              "</table>\n",
              "</div>"
            ],
            "text/plain": [
              "      recency  frequency  monetary_value\n",
              "0.25   2125.0        5.0          1145.0\n",
              "0.50   2170.0        6.0          2257.0\n",
              "0.75   2278.0        8.0          3784.0"
            ]
          },
          "metadata": {
            "tags": []
          },
          "execution_count": 478
        }
      ]
    },
    {
      "cell_type": "markdown",
      "metadata": {
        "id": "-WV18MHWdp1J"
      },
      "source": [
        "Send quantiles to a dictionary"
      ]
    },
    {
      "cell_type": "code",
      "metadata": {
        "id": "EcvUY_0LddRj"
      },
      "source": [
        "quantiles = quantiles.to_dict()\n"
      ],
      "execution_count": 479,
      "outputs": []
    },
    {
      "cell_type": "code",
      "metadata": {
        "id": "vX8T0q9Ed2Nb",
        "outputId": "92a141c6-a174-4db5-bacf-35f4f47064d6",
        "colab": {
          "base_uri": "https://localhost:8080/",
          "height": 67
        }
      },
      "source": [
        "quantiles"
      ],
      "execution_count": 480,
      "outputs": [
        {
          "output_type": "execute_result",
          "data": {
            "text/plain": [
              "{'frequency': {0.25: 5.0, 0.5: 6.0, 0.75: 8.0},\n",
              " 'monetary_value': {0.25: 1145.0, 0.5: 2257.0, 0.75: 3784.0},\n",
              " 'recency': {0.25: 2125.0, 0.5: 2170.0, 0.75: 2278.0}}"
            ]
          },
          "metadata": {
            "tags": []
          },
          "execution_count": 480
        }
      ]
    },
    {
      "cell_type": "markdown",
      "metadata": {
        "id": "lLhqdPPpeLp8"
      },
      "source": [
        "#Creating the RFM segmentation table"
      ]
    },
    {
      "cell_type": "code",
      "metadata": {
        "id": "6Xt1BozbeQKk"
      },
      "source": [
        "RMF_Segmentation = RMF_Table"
      ],
      "execution_count": 481,
      "outputs": []
    },
    {
      "cell_type": "markdown",
      "metadata": {
        "id": "Uy8o2N1kedZJ"
      },
      "source": [
        "created a class for the RFM segmentation where: 4 is best and 1 is bad\n",
        "\n",
        "---\n",
        "\n"
      ]
    },
    {
      "cell_type": "code",
      "metadata": {
        "id": "QY36WPJU-JR6"
      },
      "source": [
        "# Arguments (x = value, p = recency, monetary_value, frequency, k = quartiles dict)\n",
        "def RmfClass(x,p,d):\n",
        "    if x <= d[p][0.25]:\n",
        "        return 1\n",
        "    elif x <= d[p][0.50]:\n",
        "        return 2\n",
        "    elif x <= d[p][0.75]: \n",
        "        return 3\n",
        "    else:\n",
        "        return 4"
      ],
      "execution_count": 482,
      "outputs": []
    },
    {
      "cell_type": "code",
      "metadata": {
        "id": "gaOrUTm5eoVB"
      },
      "source": [
        "RMF_Segmentation['R'] = RMF_Segmentation['recency'].apply(RmfClass, args=('recency',quantiles,))\n",
        "RMF_Segmentation['F'] = RMF_Segmentation['frequency'].apply(RmfClass, args=('frequency',quantiles,))\n",
        "RMF_Segmentation['M'] = RMF_Segmentation['monetary_value'].apply(RmfClass, args=('monetary_value',quantiles,))"
      ],
      "execution_count": 483,
      "outputs": []
    },
    {
      "cell_type": "code",
      "metadata": {
        "id": "qh-sr1qyMOTb"
      },
      "source": [
        "RMF_Segmentation['RFMClass'] = RMF_Segmentation.R.map(str) \\\n",
        "                            + RMF_Segmentation.F.map(str) \\\n",
        "                            + RMF_Segmentation.M.map(str)"
      ],
      "execution_count": 484,
      "outputs": []
    },
    {
      "cell_type": "code",
      "metadata": {
        "id": "BG3rf2Wpmd5D",
        "outputId": "3dfef959-d368-424d-8024-915cfff8c450",
        "colab": {
          "base_uri": "https://localhost:8080/",
          "height": 225
        }
      },
      "source": [
        "RMF_Segmentation.head()"
      ],
      "execution_count": 485,
      "outputs": [
        {
          "output_type": "execute_result",
          "data": {
            "text/html": [
              "<div>\n",
              "<style scoped>\n",
              "    .dataframe tbody tr th:only-of-type {\n",
              "        vertical-align: middle;\n",
              "    }\n",
              "\n",
              "    .dataframe tbody tr th {\n",
              "        vertical-align: top;\n",
              "    }\n",
              "\n",
              "    .dataframe thead th {\n",
              "        text-align: right;\n",
              "    }\n",
              "</style>\n",
              "<table border=\"1\" class=\"dataframe\">\n",
              "  <thead>\n",
              "    <tr style=\"text-align: right;\">\n",
              "      <th></th>\n",
              "      <th>recency</th>\n",
              "      <th>frequency</th>\n",
              "      <th>monetary_value</th>\n",
              "      <th>R</th>\n",
              "      <th>F</th>\n",
              "      <th>M</th>\n",
              "      <th>RFMClass</th>\n",
              "    </tr>\n",
              "    <tr>\n",
              "      <th>customer</th>\n",
              "      <th></th>\n",
              "      <th></th>\n",
              "      <th></th>\n",
              "      <th></th>\n",
              "      <th></th>\n",
              "      <th></th>\n",
              "      <th></th>\n",
              "    </tr>\n",
              "  </thead>\n",
              "  <tbody>\n",
              "    <tr>\n",
              "      <th>Aaron Bergman</th>\n",
              "      <td>2510</td>\n",
              "      <td>3</td>\n",
              "      <td>887</td>\n",
              "      <td>4</td>\n",
              "      <td>1</td>\n",
              "      <td>1</td>\n",
              "      <td>411</td>\n",
              "    </tr>\n",
              "    <tr>\n",
              "      <th>Aaron Hawkins</th>\n",
              "      <td>2107</td>\n",
              "      <td>7</td>\n",
              "      <td>1744</td>\n",
              "      <td>1</td>\n",
              "      <td>3</td>\n",
              "      <td>2</td>\n",
              "      <td>132</td>\n",
              "    </tr>\n",
              "    <tr>\n",
              "      <th>Aaron Smayling</th>\n",
              "      <td>2183</td>\n",
              "      <td>7</td>\n",
              "      <td>3050</td>\n",
              "      <td>3</td>\n",
              "      <td>3</td>\n",
              "      <td>3</td>\n",
              "      <td>333</td>\n",
              "    </tr>\n",
              "    <tr>\n",
              "      <th>Adam Bellavance</th>\n",
              "      <td>2149</td>\n",
              "      <td>8</td>\n",
              "      <td>7756</td>\n",
              "      <td>2</td>\n",
              "      <td>3</td>\n",
              "      <td>4</td>\n",
              "      <td>234</td>\n",
              "    </tr>\n",
              "    <tr>\n",
              "      <th>Adam Hart</th>\n",
              "      <td>2129</td>\n",
              "      <td>10</td>\n",
              "      <td>3249</td>\n",
              "      <td>2</td>\n",
              "      <td>4</td>\n",
              "      <td>3</td>\n",
              "      <td>243</td>\n",
              "    </tr>\n",
              "  </tbody>\n",
              "</table>\n",
              "</div>"
            ],
            "text/plain": [
              "                 recency  frequency  monetary_value  R  F  M RFMClass\n",
              "customer                                                             \n",
              "Aaron Bergman       2510          3             887  4  1  1      411\n",
              "Aaron Hawkins       2107          7            1744  1  3  2      132\n",
              "Aaron Smayling      2183          7            3050  3  3  3      333\n",
              "Adam Bellavance     2149          8            7756  2  3  4      234\n",
              "Adam Hart           2129         10            3249  2  4  3      243"
            ]
          },
          "metadata": {
            "tags": []
          },
          "execution_count": 485
        }
      ]
    },
    {
      "cell_type": "markdown",
      "metadata": {
        "id": "LbwWmvoHi1Vl"
      },
      "source": [
        "# Plot RFM distributions"
      ]
    },
    {
      "cell_type": "code",
      "metadata": {
        "id": "8yb-Z4fBiyOB",
        "outputId": "db02b35e-16a7-4b95-832c-d9a26d90f407",
        "colab": {
          "base_uri": "https://localhost:8080/",
          "height": 606
        }
      },
      "source": [
        "\n",
        "plt.figure(figsize=(12,10))\n",
        "# Plot distribution of R\n",
        "plt.subplot(3, 1, 1); sns.distplot(RMF_Segmentation['recency'])\n",
        "# Plot distribution of F\n",
        "plt.subplot(3, 1, 2); sns.distplot(RMF_Segmentation['frequency'])\n",
        "# Plot distribution of M\n",
        "plt.subplot(3, 1, 3); sns.distplot(RMF_Segmentation['monetary_value'])\n",
        "# Show the plot\n",
        "plt.show()"
      ],
      "execution_count": 486,
      "outputs": [
        {
          "output_type": "display_data",
          "data": {
            "image/png": "[encoded data removed]",
            "text/plain": [
              "<Figure size 864x720 with 3 Axes>"
            ]
          },
          "metadata": {
            "tags": []
          }
        }
      ]
    },
    {
      "cell_type": "markdown",
      "metadata": {
        "id": "kWhUULHLnQuS"
      },
      "source": [
        "calculating sum of R F M values"
      ]
    },
    {
      "cell_type": "code",
      "metadata": {
        "id": "szTdZZH7wk2a",
        "outputId": "68b39897-bdef-4aac-db91-2539de542dfe",
        "colab": {
          "base_uri": "https://localhost:8080/",
          "height": 134
        }
      },
      "source": [
        "RMF_Segmentation['RFM_Score'] = RMF_Segmentation[['R','F','M']].sum(axis=1)\n",
        "print(RMF_Segmentation['RFM_Score'].head())"
      ],
      "execution_count": 487,
      "outputs": [
        {
          "output_type": "stream",
          "text": [
            "customer\n",
            "Aaron Bergman      6\n",
            "Aaron Hawkins      6\n",
            "Aaron Smayling     9\n",
            "Adam Bellavance    9\n",
            "Adam Hart          9\n",
            "Name: RFM_Score, dtype: int64\n"
          ],
          "name": "stdout"
        }
      ]
    },
    {
      "cell_type": "markdown",
      "metadata": {
        "id": "WYp_ptPWg-Ux"
      },
      "source": [
        "Assigning Label to each customer according to RFM_Score"
      ]
    },
    {
      "cell_type": "code",
      "metadata": {
        "id": "kT6ICY06_4Yn"
      },
      "source": [
        "def rfm_label(df):\n",
        "    if df['RFM_Score'] >= 9:\n",
        "        return 'Can\\'t Loose Them'\n",
        "    elif ((df['RFM_Score'] >= 8) and (df['RFM_Score'] < 9)):\n",
        "        return 'Champions'\n",
        "    elif ((df['RFM_Score'] >= 7) and (df['RFM_Score'] < 8)):\n",
        "        return 'Loyal'\n",
        "    elif ((df['RFM_Score'] >= 6) and (df['RFM_Score'] < 7)):\n",
        "        return 'Potential'\n",
        "    elif ((df['RFM_Score'] >= 5) and (df['RFM_Score'] < 6)):\n",
        "        return 'Promising'\n",
        "    elif ((df['RFM_Score'] >= 4) and (df['RFM_Score'] < 5)):\n",
        "        return 'Needs Attention'\n",
        "    else:\n",
        "        return 'Require Activation'\n",
        "\n",
        "\n"
      ],
      "execution_count": 488,
      "outputs": []
    },
    {
      "cell_type": "markdown",
      "metadata": {
        "id": "TOoCHVrwgZBD"
      },
      "source": [
        "Create a new variable RFM_Level"
      ]
    },
    {
      "cell_type": "code",
      "metadata": {
        "id": "JTQ7FrUdgZpE"
      },
      "source": [
        "RMF_Segmentation['RFM_Label'] = RMF_Segmentation.apply(rfm_level, axis=1)"
      ],
      "execution_count": 489,
      "outputs": []
    },
    {
      "cell_type": "markdown",
      "metadata": {
        "id": "L63ikxZVgj7F"
      },
      "source": [
        "Print the header with top 5 rows to the console"
      ]
    },
    {
      "cell_type": "code",
      "metadata": {
        "id": "xCLBXENcLZHG",
        "outputId": "b67b3cb7-c342-44df-b17c-ffec8d072707",
        "colab": {
          "base_uri": "https://localhost:8080/",
          "height": 225
        }
      },
      "source": [
        "RMF_Segmentation.head()"
      ],
      "execution_count": 490,
      "outputs": [
        {
          "output_type": "execute_result",
          "data": {
            "text/html": [
              "<div>\n",
              "<style scoped>\n",
              "    .dataframe tbody tr th:only-of-type {\n",
              "        vertical-align: middle;\n",
              "    }\n",
              "\n",
              "    .dataframe tbody tr th {\n",
              "        vertical-align: top;\n",
              "    }\n",
              "\n",
              "    .dataframe thead th {\n",
              "        text-align: right;\n",
              "    }\n",
              "</style>\n",
              "<table border=\"1\" class=\"dataframe\">\n",
              "  <thead>\n",
              "    <tr style=\"text-align: right;\">\n",
              "      <th></th>\n",
              "      <th>recency</th>\n",
              "      <th>frequency</th>\n",
              "      <th>monetary_value</th>\n",
              "      <th>R</th>\n",
              "      <th>F</th>\n",
              "      <th>M</th>\n",
              "      <th>RFMClass</th>\n",
              "      <th>RFM_Score</th>\n",
              "      <th>RFM_Label</th>\n",
              "    </tr>\n",
              "    <tr>\n",
              "      <th>customer</th>\n",
              "      <th></th>\n",
              "      <th></th>\n",
              "      <th></th>\n",
              "      <th></th>\n",
              "      <th></th>\n",
              "      <th></th>\n",
              "      <th></th>\n",
              "      <th></th>\n",
              "      <th></th>\n",
              "    </tr>\n",
              "  </thead>\n",
              "  <tbody>\n",
              "    <tr>\n",
              "      <th>Aaron Bergman</th>\n",
              "      <td>2510</td>\n",
              "      <td>3</td>\n",
              "      <td>887</td>\n",
              "      <td>4</td>\n",
              "      <td>1</td>\n",
              "      <td>1</td>\n",
              "      <td>411</td>\n",
              "      <td>6</td>\n",
              "      <td>Potential</td>\n",
              "    </tr>\n",
              "    <tr>\n",
              "      <th>Aaron Hawkins</th>\n",
              "      <td>2107</td>\n",
              "      <td>7</td>\n",
              "      <td>1744</td>\n",
              "      <td>1</td>\n",
              "      <td>3</td>\n",
              "      <td>2</td>\n",
              "      <td>132</td>\n",
              "      <td>6</td>\n",
              "      <td>Potential</td>\n",
              "    </tr>\n",
              "    <tr>\n",
              "      <th>Aaron Smayling</th>\n",
              "      <td>2183</td>\n",
              "      <td>7</td>\n",
              "      <td>3050</td>\n",
              "      <td>3</td>\n",
              "      <td>3</td>\n",
              "      <td>3</td>\n",
              "      <td>333</td>\n",
              "      <td>9</td>\n",
              "      <td>Can't Loose Them</td>\n",
              "    </tr>\n",
              "    <tr>\n",
              "      <th>Adam Bellavance</th>\n",
              "      <td>2149</td>\n",
              "      <td>8</td>\n",
              "      <td>7756</td>\n",
              "      <td>2</td>\n",
              "      <td>3</td>\n",
              "      <td>4</td>\n",
              "      <td>234</td>\n",
              "      <td>9</td>\n",
              "      <td>Can't Loose Them</td>\n",
              "    </tr>\n",
              "    <tr>\n",
              "      <th>Adam Hart</th>\n",
              "      <td>2129</td>\n",
              "      <td>10</td>\n",
              "      <td>3249</td>\n",
              "      <td>2</td>\n",
              "      <td>4</td>\n",
              "      <td>3</td>\n",
              "      <td>243</td>\n",
              "      <td>9</td>\n",
              "      <td>Can't Loose Them</td>\n",
              "    </tr>\n",
              "  </tbody>\n",
              "</table>\n",
              "</div>"
            ],
            "text/plain": [
              "                 recency  frequency  ...  RFM_Score         RFM_Label\n",
              "customer                             ...                             \n",
              "Aaron Bergman       2510          3  ...          6         Potential\n",
              "Aaron Hawkins       2107          7  ...          6         Potential\n",
              "Aaron Smayling      2183          7  ...          9  Can't Loose Them\n",
              "Adam Bellavance     2149          8  ...          9  Can't Loose Them\n",
              "Adam Hart           2129         10  ...          9  Can't Loose Them\n",
              "\n",
              "[5 rows x 9 columns]"
            ]
          },
          "metadata": {
            "tags": []
          },
          "execution_count": 490
        }
      ]
    },
    {
      "cell_type": "markdown",
      "metadata": {
        "id": "DbixH_BQlYgQ"
      },
      "source": [
        "#Plotting Them According To RFM_Label"
      ]
    },
    {
      "cell_type": "code",
      "metadata": {
        "id": "MlWTKW6qlJ07",
        "outputId": "675972c4-7bd5-4656-d4dd-0738d9de2f00",
        "colab": {
          "base_uri": "https://localhost:8080/",
          "height": 296
        }
      },
      "source": [
        "sns.countplot(y='RFM_Label',data=RMF_Segmentation)"
      ],
      "execution_count": 491,
      "outputs": [
        {
          "output_type": "execute_result",
          "data": {
            "text/plain": [
              "<matplotlib.axes._subplots.AxesSubplot at 0x7fac3809fa58>"
            ]
          },
          "metadata": {
            "tags": []
          },
          "execution_count": 491
        },
        {
          "output_type": "display_data",
          "data": {
            "image/png": "[encoded data removed]",
            "text/plain": [
              "<Figure size 432x288 with 1 Axes>"
            ]
          },
          "metadata": {
            "tags": []
          }
        }
      ]
    },
    {
      "cell_type": "markdown",
      "metadata": {
        "id": "lUTGZio5html"
      },
      "source": [
        "*Grouping them By labels*"
      ]
    },
    {
      "cell_type": "code",
      "metadata": {
        "id": "WJIWS50KhsQ2"
      },
      "source": [
        "rfm_level_agg = RMF_Segmentation.groupby('RFM_Label').agg({\n",
        "    'recency': 'mean',\n",
        "    'frequency': 'mean',\n",
        "    'monetary_value': ['mean', 'count']\n",
        "}).round(1)\n"
      ],
      "execution_count": 492,
      "outputs": []
    },
    {
      "cell_type": "markdown",
      "metadata": {
        "id": "OEePVhriiY0N"
      },
      "source": [
        "Print the aggregated dataset"
      ]
    },
    {
      "cell_type": "code",
      "metadata": {
        "id": "JEE5WpS-iOqT",
        "outputId": "13ca4e78-b9c5-45f0-a629-32e12ebd7522",
        "colab": {
          "base_uri": "https://localhost:8080/",
          "height": 185
        }
      },
      "source": [
        "print(rfm_level_agg)"
      ],
      "execution_count": 493,
      "outputs": [
        {
          "output_type": "stream",
          "text": [
            "                   recency frequency monetary_value      \n",
            "                      mean      mean           mean count\n",
            "RFM_Label                                                \n",
            "Can't Loose Them    2233.4       8.7         5111.4   220\n",
            "Champions           2233.7       7.1         3358.1   143\n",
            "Loyal               2269.9       5.6         2570.8   130\n",
            "Needs Attention     2135.7       4.0          943.4    41\n",
            "Potential           2334.6       4.7         1339.4   150\n",
            "Promising           2162.3       4.6         1304.3    78\n",
            "Require Activation  2112.1       3.8          548.9    31\n"
          ],
          "name": "stdout"
        }
      ]
    },
    {
      "cell_type": "code",
      "metadata": {
        "id": "2eoAaKYBzHn0"
      },
      "source": [
        "RMF_Segmentation['RFM_Label'] = RMF_Segmentation['R'].map(str) + RMF_Segmentation['F'].map(str)"
      ],
      "execution_count": 502,
      "outputs": []
    },
    {
      "cell_type": "code",
      "metadata": {
        "id": "J3929oLtosDT",
        "outputId": "187322ea-39d7-4824-f2d7-d6c633e38433",
        "colab": {
          "base_uri": "https://localhost:8080/",
          "height": 546
        }
      },
      "source": [
        "sns.set_style('whitegrid')\n",
        "sns.FacetGrid(RMF_Segmentation,hue='RFM_Label',size=7)\\\n",
        ".map(plt.scatter,'recency','monetary_value')\\\n",
        ".add_legend();\n",
        "\n",
        "plt.show()"
      ],
      "execution_count": 495,
      "outputs": [
        {
          "output_type": "stream",
          "text": [
            "/usr/local/lib/python3.6/dist-packages/seaborn/axisgrid.py:243: UserWarning: The `size` parameter has been renamed to `height`; please update your code.\n",
            "  warnings.warn(msg, UserWarning)\n"
          ],
          "name": "stderr"
        },
        {
          "output_type": "display_data",
          "data": {
            "image/png": "[encoded data removed]",
            "text/plain": [
              "<Figure size 631.375x504 with 1 Axes>"
            ]
          },
          "metadata": {
            "tags": []
          }
        }
      ]
    },
    {
      "cell_type": "code",
      "metadata": {
        "id": "gZb_tgrkoxM7"
      },
      "source": [
        ""
      ],
      "execution_count": 495,
      "outputs": []
    }
  ]
}